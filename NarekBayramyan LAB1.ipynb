{
 "cells": [
  {
   "cell_type": "markdown",
   "metadata": {},
   "source": [
    "### Task 1\n",
    "One benefit of using callable object instead of regular function is that callable object lets you keep state between calls. Implement a \"function\" named \"add_count\" that take a number as parameter and return the sum of the parameter and the number of times the function has been called. \n",
    "\n",
    "For example, when the function is called first time, \n",
    "```python\n",
    "add_count(3) \n",
    "```\n",
    "should return 4. Next time it is called, \n",
    "```python\n",
    "add_count(3) \n",
    "```\n",
    "should return 5 and so on. Example outputs are show below."
   ]
  },
  {
   "cell_type": "code",
   "execution_count": 1,
   "metadata": {},
   "outputs": [],
   "source": [
    "\n",
    "class counter():\n",
    "    def __init__(self):\n",
    "        self.count=0\n",
    "    def __call__(self,x):\n",
    "        self.count+=1\n",
    "        x=x+self.count\n",
    "        return x\n",
    "\n",
    "add_count=counter()\n"
   ]
  },
  {
   "cell_type": "markdown",
   "metadata": {},
   "source": [
    "### Task 2\n",
    "Implement an iterator class (named **ImageIter**) to go through a collection of images. Each image is saved in a pickle file (.pkl file) in the image directory. One can use your implementation in a loop and loop through the images one at a time. You should give a lazy implementation. That is, the images get read into the memory only when they are needed (i.e., when \\__next__ is called)."
   ]
  },
  {
   "cell_type": "code",
   "execution_count": 14,
   "metadata": {},
   "outputs": [
    {
     "name": "stdout",
     "output_type": "stream",
     "text": [
      "0 (32, 32, 3)\n",
      "1 (32, 32, 3)\n",
      "2 (32, 32, 3)\n",
      "3 (32, 32, 3)\n",
      "4 (32, 32, 3)\n",
      "5 (32, 32, 3)\n",
      "6 (32, 32, 3)\n",
      "7 (32, 32, 3)\n",
      "8 (32, 32, 3)\n",
      "9 (32, 32, 3)\n"
     ]
    }
   ],
   "source": [
    "from os import listdir\n",
    "from os.path import join\n",
    "import pickle\n",
    "\n",
    "class ImageIter():\n",
    "\n",
    "    def __init__(self, fn):\n",
    "        self.fn=fn\n",
    "    def __iter__(self):\n",
    "        self.fns = [element for element in listdir(self.fn) if element.split(\".\")[-1]==\"pkl\"]\n",
    "        #self.fns=listdir(self.fn)\n",
    "        self.index = 0\n",
    "        return self\n",
    "    def __next__(self):\n",
    "        if(self.index==len(self.fns)):\n",
    "            raise StopIteration\n",
    "        fn = join(self.fn,self.fns[self.index])\n",
    "        self.index+=1\n",
    "        return pickle.load(open(fn, 'rb'))\n",
    "    \n",
    "\n",
    "t = ImageIter('image_data')\n",
    "for i, m in enumerate(t):\n",
    "    print(i, m.shape)"
   ]
  },
  {
   "cell_type": "code",
   "execution_count": 2,
   "metadata": {},
   "outputs": [
    {
     "data": {
      "text/plain": [
       "4"
      ]
     },
     "execution_count": 2,
     "metadata": {},
     "output_type": "execute_result"
    }
   ],
   "source": [
    "add_count(3)"
   ]
  },
  {
   "cell_type": "code",
   "execution_count": 3,
   "metadata": {},
   "outputs": [
    {
     "data": {
      "text/plain": [
       "5"
      ]
     },
     "execution_count": 3,
     "metadata": {},
     "output_type": "execute_result"
    }
   ],
   "source": [
    "add_count(3)\n"
   ]
  },
  {
   "cell_type": "code",
   "execution_count": 4,
   "metadata": {},
   "outputs": [
    {
     "data": {
      "text/plain": [
       "9"
      ]
     },
     "execution_count": 4,
     "metadata": {},
     "output_type": "execute_result"
    }
   ],
   "source": [
    "add_count(6)"
   ]
  },
  {
   "cell_type": "code",
   "execution_count": 5,
   "metadata": {},
   "outputs": [
    {
     "data": {
      "text/plain": [
       "7"
      ]
     },
     "execution_count": 5,
     "metadata": {},
     "output_type": "execute_result"
    }
   ],
   "source": [
    "add_count(3)"
   ]
  },
  {
   "cell_type": "code",
   "execution_count": 16,
   "metadata": {},
   "outputs": [],
   "source": [
    "from os import listdir\n",
    "from os.path import join\n",
    "import pickle\n",
    "\n",
    "class ImageIter():\n",
    "   \n",
    "    def __init__(self,fn):\n",
    "        self.fn = fn\n",
    "    def __iter__(self):\n",
    "        self.fns = [element for element in listdir(self.fn) if element.split(\".\")=='pkl']\n",
    "        self.index = 0\n",
    "        return self\n",
    "    def __next__(self):\n",
    "        if(self.index == len(self.fns)):\n",
    "            raise StopIteration\n",
    "        fn = join(self.fn,self.fns[self.index])\n",
    "        self.index+=1\n",
    "        return pickle.load(open(fn,'rb'))\n",
    "    \n",
    "t = ImageIter('image_data')\n",
    "for i,m in enumerate(t):\n",
    "    print(i,m.shape)"
   ]
  },
  {
   "cell_type": "code",
   "execution_count": null,
   "metadata": {},
   "outputs": [],
   "source": []
  },
  {
   "cell_type": "code",
   "execution_count": null,
   "metadata": {},
   "outputs": [],
   "source": []
  },
  {
   "cell_type": "code",
   "execution_count": null,
   "metadata": {},
   "outputs": [],
   "source": []
  }
 ],
 "metadata": {
  "kernelspec": {
   "display_name": "Python 3",
   "language": "python",
   "name": "python3"
  },
  "language_info": {
   "codemirror_mode": {
    "name": "ipython",
    "version": 3
   },
   "file_extension": ".py",
   "mimetype": "text/x-python",
   "name": "python",
   "nbconvert_exporter": "python",
   "pygments_lexer": "ipython3",
   "version": "3.8.8"
  }
 },
 "nbformat": 4,
 "nbformat_minor": 2
}
